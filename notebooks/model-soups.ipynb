{
 "cells": [
  {
   "cell_type": "markdown",
   "id": "851f136a",
   "metadata": {},
   "source": [
    "This notebook performs the model souping recipes as introduced in [Model soups: averaging weights of multiple fine-tuned models improves accuracy without increasing inference time](https://arxiv.org/abs/2203.05482). Specifically, we implement the uniform model soup and the greedy model soup. "
   ]
  },
  {
   "cell_type": "markdown",
   "id": "f6fbda2c",
   "metadata": {},
   "source": [
    "## Initial setup"
   ]
  },
  {
   "cell_type": "code",
   "execution_count": 1,
   "id": "4fabfde4",
   "metadata": {},
   "outputs": [
    {
     "name": "stdout",
     "output_type": "stream",
     "text": [
      "\u001b[33mWARNING: You are using pip version 22.0.4; however, version 22.3 is available.\r\n",
      "You should consider upgrading via the '/home/ec2-user/anaconda3/envs/pytorch_p38/bin/python -m pip install --upgrade pip' command.\u001b[0m\u001b[33m\r\n",
      "\u001b[0m"
     ]
    }
   ],
   "source": [
    "!pip install datasets transformers -q"
   ]
  },
  {
   "cell_type": "code",
   "execution_count": 2,
   "id": "3ed6718b",
   "metadata": {},
   "outputs": [],
   "source": [
    "import torch\n",
    "\n",
    "device = torch.device(\"cuda\" if torch.cuda.is_available() else \"cpu\")"
   ]
  },
  {
   "cell_type": "markdown",
   "id": "e925f37d",
   "metadata": {},
   "source": [
    "## Load dataset"
   ]
  },
  {
   "cell_type": "code",
   "execution_count": 3,
   "id": "bcbd15f3",
   "metadata": {},
   "outputs": [
    {
     "data": {
      "application/vnd.jupyter.widget-view+json": {
       "model_id": "b909e59471e640c8af6452dda63bf9ae",
       "version_major": 2,
       "version_minor": 0
      },
      "text/plain": [
       "Downloading builder script:   0%|          | 0.00/3.62k [00:00<?, ?B/s]"
      ]
     },
     "metadata": {},
     "output_type": "display_data"
    },
    {
     "data": {
      "application/vnd.jupyter.widget-view+json": {
       "model_id": "b0d168f0ea034060bdbb2f3188d88c7c",
       "version_major": 2,
       "version_minor": 0
      },
      "text/plain": [
       "Downloading metadata:   0%|          | 0.00/3.28k [00:00<?, ?B/s]"
      ]
     },
     "metadata": {},
     "output_type": "display_data"
    },
    {
     "data": {
      "application/vnd.jupyter.widget-view+json": {
       "model_id": "dcf2e11955cf43c1841ce6eb7d040580",
       "version_major": 2,
       "version_minor": 0
      },
      "text/plain": [
       "Downloading readme:   0%|          | 0.00/8.20k [00:00<?, ?B/s]"
      ]
     },
     "metadata": {},
     "output_type": "display_data"
    },
    {
     "name": "stdout",
     "output_type": "stream",
     "text": [
      "Downloading and preparing dataset emotion/default (download: 1.97 MiB, generated: 2.07 MiB, post-processed: Unknown size, total: 4.05 MiB) to /home/ec2-user/.cache/huggingface/datasets/emotion/default/0.0.0/348f63ca8e27b3713b6c04d723efe6d824a56fb3d1449794716c0f0296072705...\n"
     ]
    },
    {
     "data": {
      "application/vnd.jupyter.widget-view+json": {
       "model_id": "2d8bb172db4f4a909b3a3ff3395ca72a",
       "version_major": 2,
       "version_minor": 0
      },
      "text/plain": [
       "Downloading data:   0%|          | 0.00/1.66M [00:00<?, ?B/s]"
      ]
     },
     "metadata": {},
     "output_type": "display_data"
    },
    {
     "data": {
      "application/vnd.jupyter.widget-view+json": {
       "model_id": "1a2874e9619d49c29b1a41ee7a9de0f9",
       "version_major": 2,
       "version_minor": 0
      },
      "text/plain": [
       "Downloading data:   0%|          | 0.00/204k [00:00<?, ?B/s]"
      ]
     },
     "metadata": {},
     "output_type": "display_data"
    },
    {
     "data": {
      "application/vnd.jupyter.widget-view+json": {
       "model_id": "dc01ef6b0b8f4b5fa81ed9a050b6bd76",
       "version_major": 2,
       "version_minor": 0
      },
      "text/plain": [
       "Downloading data:   0%|          | 0.00/207k [00:00<?, ?B/s]"
      ]
     },
     "metadata": {},
     "output_type": "display_data"
    },
    {
     "data": {
      "application/vnd.jupyter.widget-view+json": {
       "model_id": "",
       "version_major": 2,
       "version_minor": 0
      },
      "text/plain": [
       "Generating train split:   0%|          | 0/16000 [00:00<?, ? examples/s]"
      ]
     },
     "metadata": {},
     "output_type": "display_data"
    },
    {
     "data": {
      "application/vnd.jupyter.widget-view+json": {
       "model_id": "",
       "version_major": 2,
       "version_minor": 0
      },
      "text/plain": [
       "Generating validation split:   0%|          | 0/2000 [00:00<?, ? examples/s]"
      ]
     },
     "metadata": {},
     "output_type": "display_data"
    },
    {
     "data": {
      "application/vnd.jupyter.widget-view+json": {
       "model_id": "",
       "version_major": 2,
       "version_minor": 0
      },
      "text/plain": [
       "Generating test split:   0%|          | 0/2000 [00:00<?, ? examples/s]"
      ]
     },
     "metadata": {},
     "output_type": "display_data"
    },
    {
     "name": "stdout",
     "output_type": "stream",
     "text": [
      "Dataset emotion downloaded and prepared to /home/ec2-user/.cache/huggingface/datasets/emotion/default/0.0.0/348f63ca8e27b3713b6c04d723efe6d824a56fb3d1449794716c0f0296072705. Subsequent calls will reuse this data.\n"
     ]
    },
    {
     "data": {
      "application/vnd.jupyter.widget-view+json": {
       "model_id": "7228febceeb549b1ab774f0ede2ac837",
       "version_major": 2,
       "version_minor": 0
      },
      "text/plain": [
       "  0%|          | 0/3 [00:00<?, ?it/s]"
      ]
     },
     "metadata": {},
     "output_type": "display_data"
    }
   ],
   "source": [
    "from datasets import load_dataset\n",
    "\n",
    "emotions = load_dataset(\"emotion\")"
   ]
  },
  {
   "cell_type": "markdown",
   "id": "97a782a1",
   "metadata": {},
   "source": [
    "## Preprocessing the dataset"
   ]
  },
  {
   "cell_type": "code",
   "execution_count": 4,
   "id": "ab50d671",
   "metadata": {},
   "outputs": [
    {
     "data": {
      "application/vnd.jupyter.widget-view+json": {
       "model_id": "c858bf8058e24b56849b1aa02c2de592",
       "version_major": 2,
       "version_minor": 0
      },
      "text/plain": [
       "Downloading:   0%|          | 0.00/28.0 [00:00<?, ?B/s]"
      ]
     },
     "metadata": {},
     "output_type": "display_data"
    },
    {
     "data": {
      "application/vnd.jupyter.widget-view+json": {
       "model_id": "a9d0862f2e724b9fa10c9623b1970d8d",
       "version_major": 2,
       "version_minor": 0
      },
      "text/plain": [
       "Downloading:   0%|          | 0.00/483 [00:00<?, ?B/s]"
      ]
     },
     "metadata": {},
     "output_type": "display_data"
    },
    {
     "data": {
      "application/vnd.jupyter.widget-view+json": {
       "model_id": "42a2f4437c0348d19d82c75a002236e6",
       "version_major": 2,
       "version_minor": 0
      },
      "text/plain": [
       "Downloading:   0%|          | 0.00/232k [00:00<?, ?B/s]"
      ]
     },
     "metadata": {},
     "output_type": "display_data"
    },
    {
     "data": {
      "application/vnd.jupyter.widget-view+json": {
       "model_id": "5efbf800fd7c48a296331c1ac04e2ecd",
       "version_major": 2,
       "version_minor": 0
      },
      "text/plain": [
       "Downloading:   0%|          | 0.00/466k [00:00<?, ?B/s]"
      ]
     },
     "metadata": {},
     "output_type": "display_data"
    }
   ],
   "source": [
    "from transformers import AutoTokenizer\n",
    "\n",
    "model_ckpt = \"distilbert-base-uncased\"\n",
    "tokenizer = AutoTokenizer.from_pretrained(model_ckpt)"
   ]
  },
  {
   "cell_type": "code",
   "execution_count": 5,
   "id": "0d358b8d",
   "metadata": {},
   "outputs": [
    {
     "data": {
      "application/vnd.jupyter.widget-view+json": {
       "model_id": "b63b1035d8d949ef834d6728a870612d",
       "version_major": 2,
       "version_minor": 0
      },
      "text/plain": [
       "  0%|          | 0/1 [00:00<?, ?ba/s]"
      ]
     },
     "metadata": {},
     "output_type": "display_data"
    },
    {
     "data": {
      "application/vnd.jupyter.widget-view+json": {
       "model_id": "62f613d5e39d42aeabae85c7b2eac825",
       "version_major": 2,
       "version_minor": 0
      },
      "text/plain": [
       "  0%|          | 0/1 [00:00<?, ?ba/s]"
      ]
     },
     "metadata": {},
     "output_type": "display_data"
    },
    {
     "data": {
      "application/vnd.jupyter.widget-view+json": {
       "model_id": "bf5eb57755e5421c8f47fd4747adc2ce",
       "version_major": 2,
       "version_minor": 0
      },
      "text/plain": [
       "  0%|          | 0/1 [00:00<?, ?ba/s]"
      ]
     },
     "metadata": {},
     "output_type": "display_data"
    }
   ],
   "source": [
    "def tokenize(batch):\n",
    "    return tokenizer(batch[\"text\"], padding=True, truncation=True)\n",
    "\n",
    "\n",
    "emotions_encoded = emotions.map(tokenize, batched=True, batch_size=None)\n",
    "emotions_encoded.set_format(\"torch\", columns=[\"input_ids\", \"attention_mask\", \"label\"])"
   ]
  },
  {
   "cell_type": "markdown",
   "id": "7a994413",
   "metadata": {},
   "source": [
    "## Utilities to compute accuracy for a given dataset split"
   ]
  },
  {
   "cell_type": "code",
   "execution_count": 6,
   "id": "85516cb1",
   "metadata": {},
   "outputs": [],
   "source": [
    "def get_test_accuracy(model):\n",
    "    def fn(batch):\n",
    "        inputs = {\n",
    "            k: v.to(device)\n",
    "            for k, v in batch.items()\n",
    "            if k in tokenizer.model_input_names\n",
    "        }\n",
    "        with torch.no_grad():\n",
    "            output = model(**inputs)\n",
    "            pred_label = torch.argmax(output.logits, axis=-1)\n",
    "        return {\"predicted_label\": pred_label.cpu().numpy()}\n",
    "\n",
    "    return fn\n",
    "\n",
    "\n",
    "def compute_test_accuracy(model, split=\"validation\"):\n",
    "    accuracy_fn = get_test_accuracy(model)\n",
    "\n",
    "    new_dataset = emotions_encoded[split].map(accuracy_fn, batched=True, batch_size=128)\n",
    "    new_dataset.set_format(\"pandas\")\n",
    "\n",
    "    cols = [\"label\", \"predicted_label\"]\n",
    "    df = new_dataset[:][cols]\n",
    "    return sum(df[\"label\"] == df[\"predicted_label\"]) / len(df)"
   ]
  },
  {
   "cell_type": "markdown",
   "id": "f4419f8d",
   "metadata": {},
   "source": [
    "## Obtain accuracies for all the fine-tuned checkpoints on the validation split"
   ]
  },
  {
   "cell_type": "code",
   "execution_count": 7,
   "id": "55482860",
   "metadata": {},
   "outputs": [
    {
     "name": "stdout",
     "output_type": "stream",
     "text": [
      "Loading checkpoint: sayakpaul/distilbert-base-uncased-finetuned-emotion-lr-3e-05-wd-001.\n"
     ]
    },
    {
     "data": {
      "application/vnd.jupyter.widget-view+json": {
       "model_id": "7e22cd2db2dd418ebfe40352609bcda6",
       "version_major": 2,
       "version_minor": 0
      },
      "text/plain": [
       "Downloading:   0%|          | 0.00/883 [00:00<?, ?B/s]"
      ]
     },
     "metadata": {},
     "output_type": "display_data"
    },
    {
     "data": {
      "application/vnd.jupyter.widget-view+json": {
       "model_id": "c457ccef757b4409a4726059da9b88a2",
       "version_major": 2,
       "version_minor": 0
      },
      "text/plain": [
       "Downloading:   0%|          | 0.00/268M [00:00<?, ?B/s]"
      ]
     },
     "metadata": {},
     "output_type": "display_data"
    },
    {
     "name": "stdout",
     "output_type": "stream",
     "text": [
      "Checkpoint loaded.\n"
     ]
    },
    {
     "data": {
      "application/vnd.jupyter.widget-view+json": {
       "model_id": "4cc6bff34a7c49b091560df9d897499d",
       "version_major": 2,
       "version_minor": 0
      },
      "text/plain": [
       "  0%|          | 0/16 [00:00<?, ?ba/s]"
      ]
     },
     "metadata": {},
     "output_type": "display_data"
    },
    {
     "name": "stdout",
     "output_type": "stream",
     "text": [
      "Loading checkpoint: sayakpaul/distilbert-base-uncased-finetuned-emotion-lr-2e-05-wd-0001.\n"
     ]
    },
    {
     "data": {
      "application/vnd.jupyter.widget-view+json": {
       "model_id": "3b1df52250d140449aae2aa7bdd5a55f",
       "version_major": 2,
       "version_minor": 0
      },
      "text/plain": [
       "Downloading:   0%|          | 0.00/883 [00:00<?, ?B/s]"
      ]
     },
     "metadata": {},
     "output_type": "display_data"
    },
    {
     "data": {
      "application/vnd.jupyter.widget-view+json": {
       "model_id": "0459b1cf334f488eb4055ebd4b59ed33",
       "version_major": 2,
       "version_minor": 0
      },
      "text/plain": [
       "Downloading:   0%|          | 0.00/268M [00:00<?, ?B/s]"
      ]
     },
     "metadata": {},
     "output_type": "display_data"
    },
    {
     "name": "stdout",
     "output_type": "stream",
     "text": [
      "Checkpoint loaded.\n"
     ]
    },
    {
     "data": {
      "application/vnd.jupyter.widget-view+json": {
       "model_id": "c9514f8902f84f5588cac263dffd1737",
       "version_major": 2,
       "version_minor": 0
      },
      "text/plain": [
       "  0%|          | 0/16 [00:00<?, ?ba/s]"
      ]
     },
     "metadata": {},
     "output_type": "display_data"
    },
    {
     "name": "stdout",
     "output_type": "stream",
     "text": [
      "Loading checkpoint: sayakpaul/distilbert-base-uncased-finetuned-emotion-lr-0.0006-wd-0003.\n"
     ]
    },
    {
     "data": {
      "application/vnd.jupyter.widget-view+json": {
       "model_id": "7d14cf00478f448db96ceccf5bbbfe9c",
       "version_major": 2,
       "version_minor": 0
      },
      "text/plain": [
       "Downloading:   0%|          | 0.00/883 [00:00<?, ?B/s]"
      ]
     },
     "metadata": {},
     "output_type": "display_data"
    },
    {
     "data": {
      "application/vnd.jupyter.widget-view+json": {
       "model_id": "a0d06da7a8424ab09af448de5b57969b",
       "version_major": 2,
       "version_minor": 0
      },
      "text/plain": [
       "Downloading:   0%|          | 0.00/268M [00:00<?, ?B/s]"
      ]
     },
     "metadata": {},
     "output_type": "display_data"
    },
    {
     "name": "stdout",
     "output_type": "stream",
     "text": [
      "Checkpoint loaded.\n"
     ]
    },
    {
     "data": {
      "application/vnd.jupyter.widget-view+json": {
       "model_id": "f9f1957d3bd649c196fe09833d696e3f",
       "version_major": 2,
       "version_minor": 0
      },
      "text/plain": [
       "  0%|          | 0/16 [00:00<?, ?ba/s]"
      ]
     },
     "metadata": {},
     "output_type": "display_data"
    },
    {
     "name": "stdout",
     "output_type": "stream",
     "text": [
      "Loading checkpoint: sayakpaul/distilbert-base-uncased-finetuned-emotion-lr-1e-05-wd-0002.\n"
     ]
    },
    {
     "data": {
      "application/vnd.jupyter.widget-view+json": {
       "model_id": "1ff2b7e3f1fa4958a0adf90543dfb6d2",
       "version_major": 2,
       "version_minor": 0
      },
      "text/plain": [
       "Downloading:   0%|          | 0.00/883 [00:00<?, ?B/s]"
      ]
     },
     "metadata": {},
     "output_type": "display_data"
    },
    {
     "data": {
      "application/vnd.jupyter.widget-view+json": {
       "model_id": "c6777f73ec214bcb9b909a85b10c66e8",
       "version_major": 2,
       "version_minor": 0
      },
      "text/plain": [
       "Downloading:   0%|          | 0.00/268M [00:00<?, ?B/s]"
      ]
     },
     "metadata": {},
     "output_type": "display_data"
    },
    {
     "name": "stdout",
     "output_type": "stream",
     "text": [
      "Checkpoint loaded.\n"
     ]
    },
    {
     "data": {
      "application/vnd.jupyter.widget-view+json": {
       "model_id": "af2197b87b134509b9f53b5ae485b72f",
       "version_major": 2,
       "version_minor": 0
      },
      "text/plain": [
       "  0%|          | 0/16 [00:00<?, ?ba/s]"
      ]
     },
     "metadata": {},
     "output_type": "display_data"
    },
    {
     "name": "stdout",
     "output_type": "stream",
     "text": [
      "Loading checkpoint: sayakpaul/distilbert-base-uncased-finetuned-emotion-lr-0.0003-wd-003.\n"
     ]
    },
    {
     "data": {
      "application/vnd.jupyter.widget-view+json": {
       "model_id": "4a0d82a52bd247bda60cf22324fa217f",
       "version_major": 2,
       "version_minor": 0
      },
      "text/plain": [
       "Downloading:   0%|          | 0.00/883 [00:00<?, ?B/s]"
      ]
     },
     "metadata": {},
     "output_type": "display_data"
    },
    {
     "data": {
      "application/vnd.jupyter.widget-view+json": {
       "model_id": "561862b677b24f90a59443edf5630b3f",
       "version_major": 2,
       "version_minor": 0
      },
      "text/plain": [
       "Downloading:   0%|          | 0.00/268M [00:00<?, ?B/s]"
      ]
     },
     "metadata": {},
     "output_type": "display_data"
    },
    {
     "name": "stdout",
     "output_type": "stream",
     "text": [
      "Checkpoint loaded.\n"
     ]
    },
    {
     "data": {
      "application/vnd.jupyter.widget-view+json": {
       "model_id": "4f8a7f95653b4ddb8814d9aa6e69830c",
       "version_major": 2,
       "version_minor": 0
      },
      "text/plain": [
       "  0%|          | 0/16 [00:00<?, ?ba/s]"
      ]
     },
     "metadata": {},
     "output_type": "display_data"
    }
   ],
   "source": [
    "from transformers import AutoModelForSequenceClassification\n",
    "\n",
    "validation_accuracies = {}\n",
    "\n",
    "lrs = [3e-5, 2e-5, 6e-4, 1e-5, 3e-4]\n",
    "wds = [1e-2, 1e-3, 3e-3, 2e-3, 3e-2]\n",
    "\n",
    "for lr, wd in zip(lrs, wds):\n",
    "    model_name = f\"{model_ckpt}-finetuned-emotion-lr-{lr}-wd-{str(wd).replace('.', '')}\"\n",
    "    model_id = f\"sayakpaul/{model_name}\"\n",
    "    print(f\"Loading checkpoint: {model_id}.\")\n",
    "    model = AutoModelForSequenceClassification.from_pretrained(model_id).to(device)\n",
    "    print(\"Checkpoint loaded.\")\n",
    "\n",
    "    accuracy = compute_test_accuracy(model, split=\"validation\")\n",
    "    validation_accuracies.update({model_name: accuracy})"
   ]
  },
  {
   "cell_type": "code",
   "execution_count": 8,
   "id": "a552377e",
   "metadata": {},
   "outputs": [
    {
     "data": {
      "text/plain": [
       "{'distilbert-base-uncased-finetuned-emotion-lr-0.0003-wd-003': 0.9335,\n",
       " 'distilbert-base-uncased-finetuned-emotion-lr-3e-05-wd-001': 0.919,\n",
       " 'distilbert-base-uncased-finetuned-emotion-lr-2e-05-wd-0001': 0.896,\n",
       " 'distilbert-base-uncased-finetuned-emotion-lr-0.0006-wd-0003': 0.8875,\n",
       " 'distilbert-base-uncased-finetuned-emotion-lr-1e-05-wd-0002': 0.7495}"
      ]
     },
     "execution_count": 8,
     "metadata": {},
     "output_type": "execute_result"
    }
   ],
   "source": [
    "validation_accuracies = dict(\n",
    "    sorted(validation_accuracies.items(), key=lambda item: item[1], reverse=True)\n",
    ")\n",
    "validation_accuracies"
   ]
  },
  {
   "cell_type": "markdown",
   "id": "b45df187",
   "metadata": {},
   "source": [
    "Now, plot the accuracy scores (plotting code taken from [this Colab Notebook by Cade Gordon](https://colab.research.google.com/drive/1UmK-phTRXC4HoKb7_rScawnRqlG82svF?usp=sharing))."
   ]
  },
  {
   "cell_type": "code",
   "execution_count": 9,
   "id": "b6de8fcd",
   "metadata": {},
   "outputs": [
    {
     "name": "stdout",
     "output_type": "stream",
     "text": [
      "huggingface/tokenizers: The current process just got forked, after parallelism has already been used. Disabling parallelism to avoid deadlocks...\n",
      "To disable this warning, you can either:\n",
      "\t- Avoid using `tokenizers` before the fork if possible\n",
      "\t- Explicitly set the environment variable TOKENIZERS_PARALLELISM=(true | false)\n",
      "huggingface/tokenizers: The current process just got forked, after parallelism has already been used. Disabling parallelism to avoid deadlocks...\n",
      "To disable this warning, you can either:\n",
      "\t- Avoid using `tokenizers` before the fork if possible\n",
      "\t- Explicitly set the environment variable TOKENIZERS_PARALLELISM=(true | false)\n"
     ]
    },
    {
     "name": "stderr",
     "output_type": "stream",
     "text": [
      "Matplotlib is building the font cache; this may take a moment.\n"
     ]
    },
    {
     "data": {
      "image/png": "[encoded data removed]",
      "text/plain": [
       "<Figure size 720x360 with 1 Axes>"
      ]
     },
     "metadata": {
      "needs_background": "light"
     },
     "output_type": "display_data"
    }
   ],
   "source": [
    "import matplotlib.pyplot as plt\n",
    "\n",
    "names = [f'Model {i+1}' for i in range(len(validation_accuracies))]\n",
    "\n",
    "plt.figure(figsize = (10, 5))\n",
    "plt.bar(names, list(validation_accuracies.values()))\n",
    "plt.title(\"Test Accuracy By Model\")\n",
    "plt.ylim([0.5, 1])\n",
    "plt.xticks(rotation=30, ha='right')\n",
    "\n",
    "plt.show()"
   ]
  },
  {
   "cell_type": "markdown",
   "id": "9db8f0ec",
   "metadata": {},
   "source": [
    "## Souping utility"
   ]
  },
  {
   "cell_type": "code",
   "execution_count": 10,
   "id": "30dc500b",
   "metadata": {},
   "outputs": [],
   "source": [
    "def get_souped_model(state_dicts):\n",
    "    new_state_dict = {}\n",
    "    state_dict_keys = list(state_dicts[0].keys())\n",
    "\n",
    "    for k in state_dict_keys:\n",
    "        temp_weights = []\n",
    "        for state_dict in state_dicts:\n",
    "            temp_weights.append(state_dict[k].cpu())\n",
    "\n",
    "        stacked_weights = torch.stack(temp_weights)\n",
    "        averaged_weights = torch.mean(stacked_weights, dim=0)\n",
    "\n",
    "        new_state_dict.update({k: averaged_weights})\n",
    "\n",
    "    model = AutoModelForSequenceClassification.from_pretrained(model_ckpt, num_labels=6)\n",
    "    model.load_state_dict(new_state_dict)\n",
    "    return model.to(device)"
   ]
  },
  {
   "cell_type": "code",
   "execution_count": 11,
   "id": "da0119e2",
   "metadata": {},
   "outputs": [
    {
     "name": "stdout",
     "output_type": "stream",
     "text": [
      "Loading checkpoint: sayakpaul/distilbert-base-uncased-finetuned-emotion-lr-0.0003-wd-003.\n",
      "Loading checkpoint: sayakpaul/distilbert-base-uncased-finetuned-emotion-lr-3e-05-wd-001.\n",
      "Loading checkpoint: sayakpaul/distilbert-base-uncased-finetuned-emotion-lr-2e-05-wd-0001.\n",
      "Loading checkpoint: sayakpaul/distilbert-base-uncased-finetuned-emotion-lr-0.0006-wd-0003.\n",
      "Loading checkpoint: sayakpaul/distilbert-base-uncased-finetuned-emotion-lr-1e-05-wd-0002.\n"
     ]
    }
   ],
   "source": [
    "all_state_dicts = []\n",
    "\n",
    "# Recall that `validation_accuracies` keys are sorted in the decreasing order of the\n",
    "# respective values.\n",
    "for model_name in validation_accuracies:\n",
    "    model_id = f\"sayakpaul/{model_name}\"\n",
    "\n",
    "    print(f\"Loading checkpoint: {model_id}.\")\n",
    "    state_dict = AutoModelForSequenceClassification.from_pretrained(\n",
    "        model_id\n",
    "    ).state_dict()\n",
    "    all_state_dicts.append(state_dict)"
   ]
  },
  {
   "cell_type": "markdown",
   "id": "e3e08637",
   "metadata": {},
   "source": [
    "## Uniform soup\n",
    "\n",
    "Uniform soup is when you average all the available checkpoints. "
   ]
  },
  {
   "cell_type": "code",
   "execution_count": 12,
   "id": "911ad2ed",
   "metadata": {},
   "outputs": [
    {
     "data": {
      "application/vnd.jupyter.widget-view+json": {
       "model_id": "fb1a6e4f2b6e4b399c7d8ddcc3e03f4d",
       "version_major": 2,
       "version_minor": 0
      },
      "text/plain": [
       "Downloading:   0%|          | 0.00/268M [00:00<?, ?B/s]"
      ]
     },
     "metadata": {},
     "output_type": "display_data"
    },
    {
     "name": "stderr",
     "output_type": "stream",
     "text": [
      "Some weights of the model checkpoint at distilbert-base-uncased were not used when initializing DistilBertForSequenceClassification: ['vocab_transform.bias', 'vocab_layer_norm.weight', 'vocab_projector.weight', 'vocab_layer_norm.bias', 'vocab_transform.weight', 'vocab_projector.bias']\n",
      "- This IS expected if you are initializing DistilBertForSequenceClassification from the checkpoint of a model trained on another task or with another architecture (e.g. initializing a BertForSequenceClassification model from a BertForPreTraining model).\n",
      "- This IS NOT expected if you are initializing DistilBertForSequenceClassification from the checkpoint of a model that you expect to be exactly identical (initializing a BertForSequenceClassification model from a BertForSequenceClassification model).\n",
      "Some weights of DistilBertForSequenceClassification were not initialized from the model checkpoint at distilbert-base-uncased and are newly initialized: ['classifier.bias', 'pre_classifier.bias', 'classifier.weight', 'pre_classifier.weight']\n",
      "You should probably TRAIN this model on a down-stream task to be able to use it for predictions and inference.\n"
     ]
    },
    {
     "data": {
      "application/vnd.jupyter.widget-view+json": {
       "model_id": "e894f668fbac40409b734332cd3eda0b",
       "version_major": 2,
       "version_minor": 0
      },
      "text/plain": [
       "  0%|          | 0/16 [00:00<?, ?ba/s]"
      ]
     },
     "metadata": {},
     "output_type": "display_data"
    }
   ],
   "source": [
    "uniform_souped_model = get_souped_model(all_state_dicts)\n",
    "\n",
    "names.append(\"Uniform Soup\")\n",
    "\n",
    "validation_accuracies.update(\n",
    "    {\"uniform_soup\": compute_test_accuracy(uniform_souped_model, \"validation\")}\n",
    ")"
   ]
  },
  {
   "cell_type": "code",
   "execution_count": 13,
   "id": "b5f7c828",
   "metadata": {},
   "outputs": [
    {
     "data": {
      "image/png": "[encoded data removed]",
      "text/plain": [
       "<Figure size 720x360 with 1 Axes>"
      ]
     },
     "metadata": {
      "needs_background": "light"
     },
     "output_type": "display_data"
    }
   ],
   "source": [
    "plt.figure(figsize=(10, 5))\n",
    "plt.bar(names, list(validation_accuracies.values()))\n",
    "plt.title(\"Test Accuracy By Model\")\n",
    "plt.ylim([0.5, 1])\n",
    "plt.xticks(rotation=30, ha=\"right\")\n",
    "\n",
    "plt.show()"
   ]
  },
  {
   "cell_type": "markdown",
   "id": "557fdb04",
   "metadata": {},
   "source": [
    "Performance decreased 🤯"
   ]
  },
  {
   "cell_type": "markdown",
   "id": "9f59b5c8",
   "metadata": {},
   "source": [
    "## Greedy soup\n",
    "\n",
    "![Screen Shot 2022-05-27 at 6.36.13 PM.png](data:image/png;base64,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)"
   ]
  },
  {
   "cell_type": "code",
   "execution_count": 14,
   "id": "36ce4a72",
   "metadata": {},
   "outputs": [
    {
     "name": "stderr",
     "output_type": "stream",
     "text": [
      "Some weights of the model checkpoint at distilbert-base-uncased were not used when initializing DistilBertForSequenceClassification: ['vocab_transform.bias', 'vocab_layer_norm.weight', 'vocab_projector.weight', 'vocab_layer_norm.bias', 'vocab_transform.weight', 'vocab_projector.bias']\n",
      "- This IS expected if you are initializing DistilBertForSequenceClassification from the checkpoint of a model trained on another task or with another architecture (e.g. initializing a BertForSequenceClassification model from a BertForPreTraining model).\n",
      "- This IS NOT expected if you are initializing DistilBertForSequenceClassification from the checkpoint of a model that you expect to be exactly identical (initializing a BertForSequenceClassification model from a BertForSequenceClassification model).\n",
      "Some weights of DistilBertForSequenceClassification were not initialized from the model checkpoint at distilbert-base-uncased and are newly initialized: ['classifier.bias', 'pre_classifier.bias', 'classifier.weight', 'pre_classifier.weight']\n",
      "You should probably TRAIN this model on a down-stream task to be able to use it for predictions and inference.\n"
     ]
    },
    {
     "data": {
      "application/vnd.jupyter.widget-view+json": {
       "model_id": "b314aaf164184a7db664aa7bd8a02061",
       "version_major": 2,
       "version_minor": 0
      },
      "text/plain": [
       "  0%|          | 0/16 [00:00<?, ?ba/s]"
      ]
     },
     "metadata": {},
     "output_type": "display_data"
    },
    {
     "name": "stdout",
     "output_type": "stream",
     "text": [
      "Accuracy: 0.9315, current best: 0.9335\n"
     ]
    },
    {
     "name": "stderr",
     "output_type": "stream",
     "text": [
      "Some weights of the model checkpoint at distilbert-base-uncased were not used when initializing DistilBertForSequenceClassification: ['vocab_transform.bias', 'vocab_layer_norm.weight', 'vocab_projector.weight', 'vocab_layer_norm.bias', 'vocab_transform.weight', 'vocab_projector.bias']\n",
      "- This IS expected if you are initializing DistilBertForSequenceClassification from the checkpoint of a model trained on another task or with another architecture (e.g. initializing a BertForSequenceClassification model from a BertForPreTraining model).\n",
      "- This IS NOT expected if you are initializing DistilBertForSequenceClassification from the checkpoint of a model that you expect to be exactly identical (initializing a BertForSequenceClassification model from a BertForSequenceClassification model).\n",
      "Some weights of DistilBertForSequenceClassification were not initialized from the model checkpoint at distilbert-base-uncased and are newly initialized: ['classifier.bias', 'pre_classifier.bias', 'classifier.weight', 'pre_classifier.weight']\n",
      "You should probably TRAIN this model on a down-stream task to be able to use it for predictions and inference.\n"
     ]
    },
    {
     "data": {
      "application/vnd.jupyter.widget-view+json": {
       "model_id": "0984744122e24de6a4714b83bfcee49c",
       "version_major": 2,
       "version_minor": 0
      },
      "text/plain": [
       "  0%|          | 0/16 [00:00<?, ?ba/s]"
      ]
     },
     "metadata": {},
     "output_type": "display_data"
    },
    {
     "name": "stdout",
     "output_type": "stream",
     "text": [
      "Accuracy: 0.9275, current best: 0.9335\n"
     ]
    },
    {
     "name": "stderr",
     "output_type": "stream",
     "text": [
      "Some weights of the model checkpoint at distilbert-base-uncased were not used when initializing DistilBertForSequenceClassification: ['vocab_transform.bias', 'vocab_layer_norm.weight', 'vocab_projector.weight', 'vocab_layer_norm.bias', 'vocab_transform.weight', 'vocab_projector.bias']\n",
      "- This IS expected if you are initializing DistilBertForSequenceClassification from the checkpoint of a model trained on another task or with another architecture (e.g. initializing a BertForSequenceClassification model from a BertForPreTraining model).\n",
      "- This IS NOT expected if you are initializing DistilBertForSequenceClassification from the checkpoint of a model that you expect to be exactly identical (initializing a BertForSequenceClassification model from a BertForSequenceClassification model).\n",
      "Some weights of DistilBertForSequenceClassification were not initialized from the model checkpoint at distilbert-base-uncased and are newly initialized: ['classifier.bias', 'pre_classifier.bias', 'classifier.weight', 'pre_classifier.weight']\n",
      "You should probably TRAIN this model on a down-stream task to be able to use it for predictions and inference.\n"
     ]
    },
    {
     "data": {
      "application/vnd.jupyter.widget-view+json": {
       "model_id": "372d9730d0ea416eb3302714b849c02b",
       "version_major": 2,
       "version_minor": 0
      },
      "text/plain": [
       "  0%|          | 0/16 [00:00<?, ?ba/s]"
      ]
     },
     "metadata": {},
     "output_type": "display_data"
    },
    {
     "name": "stdout",
     "output_type": "stream",
     "text": [
      "Accuracy: 0.708, current best: 0.9335\n"
     ]
    },
    {
     "name": "stderr",
     "output_type": "stream",
     "text": [
      "Some weights of the model checkpoint at distilbert-base-uncased were not used when initializing DistilBertForSequenceClassification: ['vocab_transform.bias', 'vocab_layer_norm.weight', 'vocab_projector.weight', 'vocab_layer_norm.bias', 'vocab_transform.weight', 'vocab_projector.bias']\n",
      "- This IS expected if you are initializing DistilBertForSequenceClassification from the checkpoint of a model trained on another task or with another architecture (e.g. initializing a BertForSequenceClassification model from a BertForPreTraining model).\n",
      "- This IS NOT expected if you are initializing DistilBertForSequenceClassification from the checkpoint of a model that you expect to be exactly identical (initializing a BertForSequenceClassification model from a BertForSequenceClassification model).\n",
      "Some weights of DistilBertForSequenceClassification were not initialized from the model checkpoint at distilbert-base-uncased and are newly initialized: ['classifier.bias', 'pre_classifier.bias', 'classifier.weight', 'pre_classifier.weight']\n",
      "You should probably TRAIN this model on a down-stream task to be able to use it for predictions and inference.\n"
     ]
    },
    {
     "data": {
      "application/vnd.jupyter.widget-view+json": {
       "model_id": "dfa6c0ffbccc418c9085adefb39c97d6",
       "version_major": 2,
       "version_minor": 0
      },
      "text/plain": [
       "  0%|          | 0/16 [00:00<?, ?ba/s]"
      ]
     },
     "metadata": {},
     "output_type": "display_data"
    },
    {
     "name": "stdout",
     "output_type": "stream",
     "text": [
      "Accuracy: 0.929, current best: 0.9335\n",
      "[0] 0.9335\n"
     ]
    }
   ],
   "source": [
    "greedy_state_dict = [all_state_dicts[0]]\n",
    "current_best = list(validation_accuracies.values())[0]\n",
    "indices = [0]\n",
    "\n",
    "for i in range(1, len(all_state_dicts)):\n",
    "    greedy_state_dict.append(all_state_dicts[i])\n",
    "    souped_model = get_souped_model(greedy_state_dict)\n",
    "    accuracy = compute_test_accuracy(souped_model, \"validation\")\n",
    "    print(f\"Accuracy: {accuracy}, current best: {current_best}\")\n",
    "\n",
    "    if accuracy > current_best:\n",
    "        current_best = accuracy\n",
    "        indices.append(i)\n",
    "    else:\n",
    "        greedy_state_dict = [all_state_dicts[0]]\n",
    "\n",
    "print(indices, current_best)"
   ]
  },
  {
   "cell_type": "markdown",
   "id": "d9c388fa",
   "metadata": {},
   "source": [
    "Still not there 🤯 Maybe try with a bigger model like BERT-base to see if it works. "
   ]
  }
 ],
 "metadata": {
  "kernelspec": {
   "display_name": "Python 3 (ipykernel)",
   "language": "python",
   "name": "python3"
  },
  "language_info": {
   "codemirror_mode": {
    "name": "ipython",
    "version": 3
   },
   "file_extension": ".py",
   "mimetype": "text/x-python",
   "name": "python",
   "nbconvert_exporter": "python",
   "pygments_lexer": "ipython3",
   "version": "3.8.2"
  }
 },
 "nbformat": 4,
 "nbformat_minor": 5
}
